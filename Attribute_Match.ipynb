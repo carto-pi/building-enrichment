{
 "cells": [
  {
   "cell_type": "markdown",
   "metadata": {},
   "source": [
    "## Attribute matching of features based on string comparison algorithms"
   ]
  },
  {
   "cell_type": "code",
   "execution_count": 371,
   "metadata": {},
   "outputs": [],
   "source": [
    "import pandas as pd\n",
    "import geopandas as gpd\n",
    "import Levenshtein as lv\n",
    "from IPython.display import display\n",
    "pd.options.display.max_columns = 50\n",
    "from nltk.metrics import edit_distance\n",
    "import jellyfish as jf\n",
    "import numpy as np"
   ]
  },
  {
   "cell_type": "code",
   "execution_count": 125,
   "metadata": {},
   "outputs": [],
   "source": [
    "ibb = gpd.GeoDataFrame.from_file('DataSet/ibb_clean.geojson')\n",
    "osm = gpd.GeoDataFrame.from_file('DataSet/osm_clean.geojson')"
   ]
  },
  {
   "cell_type": "code",
   "execution_count": 126,
   "metadata": {},
   "outputs": [],
   "source": [
    "ibb.loc[ibb['LAYER'] == 'B_DINI_TESIS0', ['LAYER']] = 'B_DINI_TESIS'"
   ]
  },
  {
   "cell_type": "code",
   "execution_count": 127,
   "metadata": {},
   "outputs": [],
   "source": [
    "ibb_dist = ibb[['LAYER', 'YAPI_ADI', 'Feature']]\n",
    "osm_dist = osm[['name', 'name_tr', 'Feature']]"
   ]
  },
  {
   "cell_type": "code",
   "execution_count": 128,
   "metadata": {},
   "outputs": [
    {
     "name": "stderr",
     "output_type": "stream",
     "text": [
      "/Users/kadir/anaconda3/envs/myenv/lib/python3.7/site-packages/pandas/core/generic.py:5208: SettingWithCopyWarning: \n",
      "A value is trying to be set on a copy of a slice from a DataFrame.\n",
      "Try using .loc[row_indexer,col_indexer] = value instead\n",
      "\n",
      "See the caveats in the documentation: http://pandas.pydata.org/pandas-docs/stable/user_guide/indexing.html#returning-a-view-versus-a-copy\n",
      "  self[name] = value\n"
     ]
    }
   ],
   "source": [
    "osm_dist.name = osm_dist.name.fillna('#')\n",
    "osm_dist.name_tr = osm_dist.name_tr.fillna('*')\n",
    "ibb_dist = ibb_dist.fillna('*')"
   ]
  },
  {
   "cell_type": "code",
   "execution_count": 129,
   "metadata": {},
   "outputs": [
    {
     "data": {
      "text/html": [
       "<div>\n",
       "<style scoped>\n",
       "    .dataframe tbody tr th:only-of-type {\n",
       "        vertical-align: middle;\n",
       "    }\n",
       "\n",
       "    .dataframe tbody tr th {\n",
       "        vertical-align: top;\n",
       "    }\n",
       "\n",
       "    .dataframe thead th {\n",
       "        text-align: right;\n",
       "    }\n",
       "</style>\n",
       "<table border=\"1\" class=\"dataframe\">\n",
       "  <thead>\n",
       "    <tr style=\"text-align: right;\">\n",
       "      <th></th>\n",
       "      <th>name</th>\n",
       "      <th>name_tr</th>\n",
       "      <th>Feature</th>\n",
       "    </tr>\n",
       "  </thead>\n",
       "  <tbody>\n",
       "    <tr>\n",
       "      <th>0</th>\n",
       "      <td>Yeni Camii</td>\n",
       "      <td>*</td>\n",
       "      <td>osm1</td>\n",
       "    </tr>\n",
       "    <tr>\n",
       "      <th>1</th>\n",
       "      <td>#</td>\n",
       "      <td>*</td>\n",
       "      <td>osm2</td>\n",
       "    </tr>\n",
       "    <tr>\n",
       "      <th>2</th>\n",
       "      <td>#</td>\n",
       "      <td>*</td>\n",
       "      <td>osm3</td>\n",
       "    </tr>\n",
       "    <tr>\n",
       "      <th>3</th>\n",
       "      <td>#</td>\n",
       "      <td>*</td>\n",
       "      <td>osm4</td>\n",
       "    </tr>\n",
       "    <tr>\n",
       "      <th>4</th>\n",
       "      <td>Mısır Çarşısı</td>\n",
       "      <td>Mısır Çarşısı</td>\n",
       "      <td>osm5</td>\n",
       "    </tr>\n",
       "    <tr>\n",
       "      <th>...</th>\n",
       "      <td>...</td>\n",
       "      <td>...</td>\n",
       "      <td>...</td>\n",
       "    </tr>\n",
       "    <tr>\n",
       "      <th>316</th>\n",
       "      <td>#</td>\n",
       "      <td>*</td>\n",
       "      <td>osm317</td>\n",
       "    </tr>\n",
       "    <tr>\n",
       "      <th>317</th>\n",
       "      <td>#</td>\n",
       "      <td>*</td>\n",
       "      <td>osm318</td>\n",
       "    </tr>\n",
       "    <tr>\n",
       "      <th>318</th>\n",
       "      <td>#</td>\n",
       "      <td>*</td>\n",
       "      <td>osm319</td>\n",
       "    </tr>\n",
       "    <tr>\n",
       "      <th>319</th>\n",
       "      <td>#</td>\n",
       "      <td>*</td>\n",
       "      <td>osm320</td>\n",
       "    </tr>\n",
       "    <tr>\n",
       "      <th>320</th>\n",
       "      <td>nüans pasta</td>\n",
       "      <td>*</td>\n",
       "      <td>osm321</td>\n",
       "    </tr>\n",
       "  </tbody>\n",
       "</table>\n",
       "<p>321 rows × 3 columns</p>\n",
       "</div>"
      ],
      "text/plain": [
       "              name        name_tr Feature\n",
       "0       Yeni Camii              *    osm1\n",
       "1                #              *    osm2\n",
       "2                #              *    osm3\n",
       "3                #              *    osm4\n",
       "4    Mısır Çarşısı  Mısır Çarşısı    osm5\n",
       "..             ...            ...     ...\n",
       "316              #              *  osm317\n",
       "317              #              *  osm318\n",
       "318              #              *  osm319\n",
       "319              #              *  osm320\n",
       "320    nüans pasta              *  osm321\n",
       "\n",
       "[321 rows x 3 columns]"
      ]
     },
     "execution_count": 129,
     "metadata": {},
     "output_type": "execute_result"
    }
   ],
   "source": [
    "osm_dist"
   ]
  },
  {
   "cell_type": "code",
   "execution_count": 130,
   "metadata": {},
   "outputs": [],
   "source": []
  },
  {
   "cell_type": "code",
   "execution_count": 141,
   "metadata": {},
   "outputs": [],
   "source": [
    "results = osm_dist.apply(lambda x: lv.distance(x['name'], x['name_tr']), axis = 1)"
   ]
  },
  {
   "cell_type": "code",
   "execution_count": 142,
   "metadata": {},
   "outputs": [
    {
     "name": "stderr",
     "output_type": "stream",
     "text": [
      "/Users/kadir/anaconda3/envs/myenv/lib/python3.7/site-packages/pandas/io/clipboards.py:117: FutureWarning: The signature of `Series.to_csv` was aligned to that of `DataFrame.to_csv`, and argument 'header' will change its default value from False to True: please pass an explicit value to suppress this warning.\n",
      "  obj.to_csv(buf, sep=sep, encoding=\"utf-8\", **kwargs)\n"
     ]
    }
   ],
   "source": [
    "results.to_clipboard()"
   ]
  },
  {
   "cell_type": "code",
   "execution_count": 133,
   "metadata": {},
   "outputs": [],
   "source": [
    "ls = [0,\n",
    "4,\n",
    "5,\n",
    "8,\n",
    "23,\n",
    "27,\n",
    "29,\n",
    "39,\n",
    "40,\n",
    "41,\n",
    "43,\n",
    "44,\n",
    "45,\n",
    "46,\n",
    "47,\n",
    "308,\n",
    "320]"
   ]
  },
  {
   "cell_type": "code",
   "execution_count": 140,
   "metadata": {},
   "outputs": [
    {
     "data": {
      "text/plain": [
       "17"
      ]
     },
     "execution_count": 140,
     "metadata": {},
     "output_type": "execute_result"
    }
   ],
   "source": [
    "len(ls)"
   ]
  },
  {
   "cell_type": "code",
   "execution_count": 150,
   "metadata": {},
   "outputs": [],
   "source": [
    "osm_test = osm_dist.sort_values('name').tail(17)[['name', 'Feature']].reset_index(drop=True)"
   ]
  },
  {
   "cell_type": "code",
   "execution_count": 175,
   "metadata": {},
   "outputs": [],
   "source": [
    "osm_test = osm_test.append({'Feature':'osm445'}, ignore_index=True)"
   ]
  },
  {
   "cell_type": "code",
   "execution_count": 176,
   "metadata": {},
   "outputs": [
    {
     "data": {
      "text/html": [
       "<div>\n",
       "<style scoped>\n",
       "    .dataframe tbody tr th:only-of-type {\n",
       "        vertical-align: middle;\n",
       "    }\n",
       "\n",
       "    .dataframe tbody tr th {\n",
       "        vertical-align: top;\n",
       "    }\n",
       "\n",
       "    .dataframe thead th {\n",
       "        text-align: right;\n",
       "    }\n",
       "</style>\n",
       "<table border=\"1\" class=\"dataframe\">\n",
       "  <thead>\n",
       "    <tr style=\"text-align: right;\">\n",
       "      <th></th>\n",
       "      <th>name</th>\n",
       "      <th>Feature</th>\n",
       "    </tr>\n",
       "  </thead>\n",
       "  <tbody>\n",
       "    <tr>\n",
       "      <th>0</th>\n",
       "      <td>Ahi Çelebi Cami</td>\n",
       "      <td>osm6</td>\n",
       "    </tr>\n",
       "    <tr>\n",
       "      <th>1</th>\n",
       "      <td>BALIK EKMEK</td>\n",
       "      <td>osm46</td>\n",
       "    </tr>\n",
       "    <tr>\n",
       "      <th>2</th>\n",
       "      <td>Balkapan Hanı</td>\n",
       "      <td>osm24</td>\n",
       "    </tr>\n",
       "    <tr>\n",
       "      <th>3</th>\n",
       "      <td>Hatice Turhan Valide Sultan Çeşmesi</td>\n",
       "      <td>osm309</td>\n",
       "    </tr>\n",
       "    <tr>\n",
       "      <th>4</th>\n",
       "      <td>Hidayet camii</td>\n",
       "      <td>osm47</td>\n",
       "    </tr>\n",
       "    <tr>\n",
       "      <th>5</th>\n",
       "      <td>Mısır Çarşısı</td>\n",
       "      <td>osm5</td>\n",
       "    </tr>\n",
       "    <tr>\n",
       "      <th>6</th>\n",
       "      <td>Rüstem Paşa Camii</td>\n",
       "      <td>osm40</td>\n",
       "    </tr>\n",
       "    <tr>\n",
       "      <th>7</th>\n",
       "      <td>Tahtakale Hamamı</td>\n",
       "      <td>osm28</td>\n",
       "    </tr>\n",
       "    <tr>\n",
       "      <th>8</th>\n",
       "      <td>Timurtaş Cami</td>\n",
       "      <td>osm30</td>\n",
       "    </tr>\n",
       "    <tr>\n",
       "      <th>9</th>\n",
       "      <td>Turyol İskelesi</td>\n",
       "      <td>osm42</td>\n",
       "    </tr>\n",
       "    <tr>\n",
       "      <th>10</th>\n",
       "      <td>Türkiye İş Bankası Müzesi</td>\n",
       "      <td>osm45</td>\n",
       "    </tr>\n",
       "    <tr>\n",
       "      <th>11</th>\n",
       "      <td>Yavaşçı Şahin Mehmet Ali Paşa Cami</td>\n",
       "      <td>osm44</td>\n",
       "    </tr>\n",
       "    <tr>\n",
       "      <th>12</th>\n",
       "      <td>Yeni Camii</td>\n",
       "      <td>osm1</td>\n",
       "    </tr>\n",
       "    <tr>\n",
       "      <th>13</th>\n",
       "      <td>Zindan Hanı</td>\n",
       "      <td>osm9</td>\n",
       "    </tr>\n",
       "    <tr>\n",
       "      <th>14</th>\n",
       "      <td>nüans pasta</td>\n",
       "      <td>osm321</td>\n",
       "    </tr>\n",
       "    <tr>\n",
       "      <th>15</th>\n",
       "      <td>Çelebioğlu Hoca Alaaddin Cami</td>\n",
       "      <td>osm48</td>\n",
       "    </tr>\n",
       "    <tr>\n",
       "      <th>16</th>\n",
       "      <td>İDO Eminönü Terminali</td>\n",
       "      <td>osm41</td>\n",
       "    </tr>\n",
       "    <tr>\n",
       "      <th>17</th>\n",
       "      <td>NaN</td>\n",
       "      <td>osm444</td>\n",
       "    </tr>\n",
       "    <tr>\n",
       "      <th>18</th>\n",
       "      <td>NaN</td>\n",
       "      <td>osm445</td>\n",
       "    </tr>\n",
       "  </tbody>\n",
       "</table>\n",
       "</div>"
      ],
      "text/plain": [
       "                                   name Feature\n",
       "0                       Ahi Çelebi Cami    osm6\n",
       "1                           BALIK EKMEK   osm46\n",
       "2                         Balkapan Hanı   osm24\n",
       "3   Hatice Turhan Valide Sultan Çeşmesi  osm309\n",
       "4                         Hidayet camii   osm47\n",
       "5                         Mısır Çarşısı    osm5\n",
       "6                     Rüstem Paşa Camii   osm40\n",
       "7                      Tahtakale Hamamı   osm28\n",
       "8                         Timurtaş Cami   osm30\n",
       "9                       Turyol İskelesi   osm42\n",
       "10            Türkiye İş Bankası Müzesi   osm45\n",
       "11   Yavaşçı Şahin Mehmet Ali Paşa Cami   osm44\n",
       "12                           Yeni Camii    osm1\n",
       "13                          Zindan Hanı    osm9\n",
       "14                          nüans pasta  osm321\n",
       "15        Çelebioğlu Hoca Alaaddin Cami   osm48\n",
       "16                İDO Eminönü Terminali   osm41\n",
       "17                                  NaN  osm444\n",
       "18                                  NaN  osm445"
      ]
     },
     "execution_count": 176,
     "metadata": {},
     "output_type": "execute_result"
    }
   ],
   "source": [
    "osm_test"
   ]
  },
  {
   "cell_type": "code",
   "execution_count": 177,
   "metadata": {},
   "outputs": [],
   "source": [
    "cols = list(osm_test.columns.values)"
   ]
  },
  {
   "cell_type": "code",
   "execution_count": 180,
   "metadata": {},
   "outputs": [],
   "source": [
    "osm_test = osm_test[['Feature', 'name']]"
   ]
  },
  {
   "cell_type": "code",
   "execution_count": 204,
   "metadata": {},
   "outputs": [],
   "source": [
    "ibb_test = ibb_dist[ibb_dist['YAPI_ADI'].isin(osm_test['name'])]"
   ]
  },
  {
   "cell_type": "code",
   "execution_count": 205,
   "metadata": {},
   "outputs": [],
   "source": [
    "ibb_test = ibb_test[['Feature', 'YAPI_ADI']].reset_index(drop=True)"
   ]
  },
  {
   "cell_type": "code",
   "execution_count": 219,
   "metadata": {},
   "outputs": [
    {
     "data": {
      "text/html": [
       "<div>\n",
       "<style scoped>\n",
       "    .dataframe tbody tr th:only-of-type {\n",
       "        vertical-align: middle;\n",
       "    }\n",
       "\n",
       "    .dataframe tbody tr th {\n",
       "        vertical-align: top;\n",
       "    }\n",
       "\n",
       "    .dataframe thead th {\n",
       "        text-align: right;\n",
       "    }\n",
       "</style>\n",
       "<table border=\"1\" class=\"dataframe\">\n",
       "  <thead>\n",
       "    <tr style=\"text-align: right;\">\n",
       "      <th></th>\n",
       "      <th>Feature</th>\n",
       "      <th>YAPI_ADI</th>\n",
       "    </tr>\n",
       "  </thead>\n",
       "  <tbody>\n",
       "    <tr>\n",
       "      <th>0</th>\n",
       "      <td>ibb16</td>\n",
       "      <td>Rüstem Paşa Camii</td>\n",
       "    </tr>\n",
       "    <tr>\n",
       "      <th>1</th>\n",
       "      <td>ibb196</td>\n",
       "      <td>Yeni Camii</td>\n",
       "    </tr>\n",
       "    <tr>\n",
       "      <th>2</th>\n",
       "      <td>ibb1112</td>\n",
       "      <td>eminonu terminali</td>\n",
       "    </tr>\n",
       "    <tr>\n",
       "      <th>3</th>\n",
       "      <td>ibb1111</td>\n",
       "      <td>iş bankası müzesi</td>\n",
       "    </tr>\n",
       "    <tr>\n",
       "      <th>4</th>\n",
       "      <td>ibb1111</td>\n",
       "      <td>YavaşçıŞahinMehmetAliPaşaCami</td>\n",
       "    </tr>\n",
       "    <tr>\n",
       "      <th>5</th>\n",
       "      <td>ibb1111</td>\n",
       "      <td>misir carsisi</td>\n",
       "    </tr>\n",
       "    <tr>\n",
       "      <th>6</th>\n",
       "      <td>ibb1111</td>\n",
       "      <td>Balık kepek</td>\n",
       "    </tr>\n",
       "    <tr>\n",
       "      <th>7</th>\n",
       "      <td>ibb1111</td>\n",
       "      <td></td>\n",
       "    </tr>\n",
       "    <tr>\n",
       "      <th>8</th>\n",
       "      <td>ibb1111</td>\n",
       "      <td>NaN</td>\n",
       "    </tr>\n",
       "    <tr>\n",
       "      <th>9</th>\n",
       "      <td>ibb1111</td>\n",
       "      <td>NaN</td>\n",
       "    </tr>\n",
       "    <tr>\n",
       "      <th>10</th>\n",
       "      <td>ibb1111</td>\n",
       "      <td>İDO Eminönü Terminali</td>\n",
       "    </tr>\n",
       "    <tr>\n",
       "      <th>11</th>\n",
       "      <td>ibb1111</td>\n",
       "      <td>nüans pasta</td>\n",
       "    </tr>\n",
       "    <tr>\n",
       "      <th>12</th>\n",
       "      <td>ibb1111</td>\n",
       "      <td>Turyol İskelesi</td>\n",
       "    </tr>\n",
       "    <tr>\n",
       "      <th>13</th>\n",
       "      <td>ibb1111</td>\n",
       "      <td>Hatice Valide Sultan Çeşmesi</td>\n",
       "    </tr>\n",
       "    <tr>\n",
       "      <th>14</th>\n",
       "      <td>ibb1111</td>\n",
       "      <td>Tahtakale</td>\n",
       "    </tr>\n",
       "    <tr>\n",
       "      <th>15</th>\n",
       "      <td>ibb1111</td>\n",
       "      <td>Cami</td>\n",
       "    </tr>\n",
       "  </tbody>\n",
       "</table>\n",
       "</div>"
      ],
      "text/plain": [
       "    Feature                       YAPI_ADI\n",
       "0     ibb16              Rüstem Paşa Camii\n",
       "1    ibb196                     Yeni Camii\n",
       "2   ibb1112              eminonu terminali\n",
       "3   ibb1111              iş bankası müzesi\n",
       "4   ibb1111  YavaşçıŞahinMehmetAliPaşaCami\n",
       "5   ibb1111                  misir carsisi\n",
       "6   ibb1111                    Balık kepek\n",
       "7   ibb1111                               \n",
       "8   ibb1111                            NaN\n",
       "9   ibb1111                            NaN\n",
       "10  ibb1111          İDO Eminönü Terminali\n",
       "11  ibb1111                    nüans pasta\n",
       "12  ibb1111                Turyol İskelesi\n",
       "13  ibb1111   Hatice Valide Sultan Çeşmesi\n",
       "14  ibb1111                      Tahtakale\n",
       "15  ibb1111                           Cami"
      ]
     },
     "execution_count": 219,
     "metadata": {},
     "output_type": "execute_result"
    }
   ],
   "source": [
    "ibb_test = ibb_test.append({'Feature':'ibb1111', 'YAPI_ADI':'Cami'}, ignore_index=True)\n",
    "ibb_test"
   ]
  },
  {
   "cell_type": "code",
   "execution_count": 372,
   "metadata": {},
   "outputs": [
    {
     "name": "stdout",
     "output_type": "stream",
     "text": [
      "number of fetures in ibb: 16\n",
      "number of fetures in osm: 19\n"
     ]
    }
   ],
   "source": [
    "jaro_wk = pd.DataFrame(columns=['ibb', 'osm','lv_jw', 'jf_jw', 'lv_dist'])\n",
    "\n",
    "for i, row in ibb_test.iterrows():\n",
    "    for j, rw in osm_test.iterrows():\n",
    "        if pd.isnull(row['YAPI_ADI']) or pd.isnull(rw['name']):\n",
    "            continue\n",
    "        jaro_wk = jaro_wk.append({'ibb': i, 'osm': j,\n",
    "                                  'lv_jw': lv.jaro_winkler(row['YAPI_ADI'], rw['name']),\n",
    "                                  'jf_jw': jf.jaro_winkler(row['YAPI_ADI'], rw['name']),\n",
    "                                  'lv_dist': lv.distance(row['YAPI_ADI'], rw['name']),\n",
    "                                 }, ignore_index=True)"
   ]
  },
  {
   "cell_type": "raw",
   "metadata": {},
   "source": [
    "jaro_wk.astype({'ibb':int,'osm':int,'lv_dist':int})"
   ]
  },
  {
   "cell_type": "raw",
   "metadata": {},
   "source": [
    "mx = 0\n",
    "for i, row in jaro_wk.iterrows():\n",
    "    if (row['ibb'] == i) & (mx < row['jw_measure']):\n",
    "        mx = row['jw_measure']\n",
    "        print(i,mx)"
   ]
  },
  {
   "cell_type": "code",
   "execution_count": 433,
   "metadata": {
    "tags": []
   },
   "outputs": [],
   "source": [
    "# maksimumları yeni bir dataframe'e yazdırma\n",
    "str_sim = pd.DataFrame(columns=['ibb_ind','lv_jw', 'jf_jw', 'lv_dist'])\n",
    "\n",
    "for i in range(len(ibb_test)):\n",
    "    str_sim = str_sim.append({'ibb_ind':i, \n",
    "                          'lv_jw': jaro_wk[jaro_wk['ibb'] == i]['lv_jw'].max(), \n",
    "                          'jf_jw': jaro_wk[jaro_wk['ibb'] == i]['jf_jw'].max(), \n",
    "                          'lv_dist': jaro_wk[jaro_wk['ibb'] == i]['lv_dist'].max()}, ignore_index=True)  "
   ]
  },
  {
   "cell_type": "code",
   "execution_count": 430,
   "metadata": {},
   "outputs": [
    {
     "data": {
      "text/html": [
       "<div>\n",
       "<style scoped>\n",
       "    .dataframe tbody tr th:only-of-type {\n",
       "        vertical-align: middle;\n",
       "    }\n",
       "\n",
       "    .dataframe tbody tr th {\n",
       "        vertical-align: top;\n",
       "    }\n",
       "\n",
       "    .dataframe thead th {\n",
       "        text-align: right;\n",
       "    }\n",
       "</style>\n",
       "<table border=\"1\" class=\"dataframe\">\n",
       "  <thead>\n",
       "    <tr style=\"text-align: right;\">\n",
       "      <th></th>\n",
       "      <th>ibb_ind</th>\n",
       "      <th>lv_jw</th>\n",
       "      <th>jf_jw</th>\n",
       "      <th>lv_dist</th>\n",
       "    </tr>\n",
       "  </thead>\n",
       "  <tbody>\n",
       "    <tr>\n",
       "      <th>0</th>\n",
       "      <td>0.0</td>\n",
       "      <td>1.000000</td>\n",
       "      <td>1.000000</td>\n",
       "      <td>28.0</td>\n",
       "    </tr>\n",
       "    <tr>\n",
       "      <th>1</th>\n",
       "      <td>1.0</td>\n",
       "      <td>1.000000</td>\n",
       "      <td>1.000000</td>\n",
       "      <td>28.0</td>\n",
       "    </tr>\n",
       "    <tr>\n",
       "      <th>2</th>\n",
       "      <td>2.0</td>\n",
       "      <td>0.730482</td>\n",
       "      <td>0.743302</td>\n",
       "      <td>29.0</td>\n",
       "    </tr>\n",
       "    <tr>\n",
       "      <th>3</th>\n",
       "      <td>3.0</td>\n",
       "      <td>0.683007</td>\n",
       "      <td>0.683007</td>\n",
       "      <td>28.0</td>\n",
       "    </tr>\n",
       "    <tr>\n",
       "      <th>4</th>\n",
       "      <td>4.0</td>\n",
       "      <td>0.985294</td>\n",
       "      <td>0.970588</td>\n",
       "      <td>28.0</td>\n",
       "    </tr>\n",
       "    <tr>\n",
       "      <th>5</th>\n",
       "      <td>5.0</td>\n",
       "      <td>0.641026</td>\n",
       "      <td>0.641026</td>\n",
       "      <td>30.0</td>\n",
       "    </tr>\n",
       "    <tr>\n",
       "      <th>6</th>\n",
       "      <td>6.0</td>\n",
       "      <td>0.729409</td>\n",
       "      <td>0.613442</td>\n",
       "      <td>30.0</td>\n",
       "    </tr>\n",
       "    <tr>\n",
       "      <th>7</th>\n",
       "      <td>7.0</td>\n",
       "      <td>0.000000</td>\n",
       "      <td>0.000000</td>\n",
       "      <td>35.0</td>\n",
       "    </tr>\n",
       "    <tr>\n",
       "      <th>8</th>\n",
       "      <td>8.0</td>\n",
       "      <td>NaN</td>\n",
       "      <td>NaN</td>\n",
       "      <td>NaN</td>\n",
       "    </tr>\n",
       "    <tr>\n",
       "      <th>9</th>\n",
       "      <td>9.0</td>\n",
       "      <td>NaN</td>\n",
       "      <td>NaN</td>\n",
       "      <td>NaN</td>\n",
       "    </tr>\n",
       "    <tr>\n",
       "      <th>10</th>\n",
       "      <td>10.0</td>\n",
       "      <td>1.000000</td>\n",
       "      <td>1.000000</td>\n",
       "      <td>30.0</td>\n",
       "    </tr>\n",
       "    <tr>\n",
       "      <th>11</th>\n",
       "      <td>11.0</td>\n",
       "      <td>1.000000</td>\n",
       "      <td>1.000000</td>\n",
       "      <td>30.0</td>\n",
       "    </tr>\n",
       "    <tr>\n",
       "      <th>12</th>\n",
       "      <td>12.0</td>\n",
       "      <td>1.000000</td>\n",
       "      <td>1.000000</td>\n",
       "      <td>30.0</td>\n",
       "    </tr>\n",
       "    <tr>\n",
       "      <th>13</th>\n",
       "      <td>13.0</td>\n",
       "      <td>0.956786</td>\n",
       "      <td>0.913571</td>\n",
       "      <td>27.0</td>\n",
       "    </tr>\n",
       "    <tr>\n",
       "      <th>14</th>\n",
       "      <td>14.0</td>\n",
       "      <td>0.985417</td>\n",
       "      <td>0.912500</td>\n",
       "      <td>30.0</td>\n",
       "    </tr>\n",
       "    <tr>\n",
       "      <th>15</th>\n",
       "      <td>15.0</td>\n",
       "      <td>0.519048</td>\n",
       "      <td>0.549145</td>\n",
       "      <td>32.0</td>\n",
       "    </tr>\n",
       "  </tbody>\n",
       "</table>\n",
       "</div>"
      ],
      "text/plain": [
       "    ibb_ind     lv_jw     jf_jw  lv_dist\n",
       "0       0.0  1.000000  1.000000     28.0\n",
       "1       1.0  1.000000  1.000000     28.0\n",
       "2       2.0  0.730482  0.743302     29.0\n",
       "3       3.0  0.683007  0.683007     28.0\n",
       "4       4.0  0.985294  0.970588     28.0\n",
       "5       5.0  0.641026  0.641026     30.0\n",
       "6       6.0  0.729409  0.613442     30.0\n",
       "7       7.0  0.000000  0.000000     35.0\n",
       "8       8.0       NaN       NaN      NaN\n",
       "9       9.0       NaN       NaN      NaN\n",
       "10     10.0  1.000000  1.000000     30.0\n",
       "11     11.0  1.000000  1.000000     30.0\n",
       "12     12.0  1.000000  1.000000     30.0\n",
       "13     13.0  0.956786  0.913571     27.0\n",
       "14     14.0  0.985417  0.912500     30.0\n",
       "15     15.0  0.519048  0.549145     32.0"
      ]
     },
     "execution_count": 430,
     "metadata": {},
     "output_type": "execute_result"
    }
   ],
   "source": [
    "str_sim"
   ]
  },
  {
   "cell_type": "raw",
   "metadata": {},
   "source": [
    "for i, row in jaro_wk.iterrows():\n",
    "    print(i, jaro_wk[jaro_wk['ibb'] == i]['jw_measure'].max())"
   ]
  },
  {
   "cell_type": "raw",
   "metadata": {},
   "source": [
    "jaro_wk.sort_values(['jw_measure','ibb'], ascending=[False, True]).head(20)"
   ]
  },
  {
   "cell_type": "raw",
   "metadata": {},
   "source": [
    "jaro_arr = np.zeros(shape=(len(ibb_test), len(osm_test)))\n",
    "\n",
    "for i, row in ibb_test.iterrows():\n",
    "    for j, rw in osm_test.iterrows():\n",
    "        if pd.isnull(row['YAPI_ADI']) or pd.isnull(rw['name']):\n",
    "            continue\n",
    "        jaro_arr[i][j] = lv.jaro_winkler(row['YAPI_ADI'], rw['name'])\n",
    "jmax = np.amax(jaro_arr, axis = 1)\n",
    "jmax_pd = pd.DataFrame(jmax)"
   ]
  },
  {
   "cell_type": "code",
   "execution_count": 434,
   "metadata": {},
   "outputs": [],
   "source": [
    "jaro_wk = pd.DataFrame(columns=['ibb', 'osm','lv_jw', 'lv_dist'])\n",
    "\n",
    "for i, row in ibb_test.iterrows():\n",
    "    for j, rw in osm_test.iterrows():\n",
    "        if pd.isnull(row['YAPI_ADI']) or pd.isnull(rw['name']):\n",
    "            continue\n",
    "        jaro_wk = jaro_wk.append({'ibb': i, 'osm': j,\n",
    "                                  'lv_jw': lv.jaro_winkler(row['YAPI_ADI'], rw['name']),\n",
    "                                  'lv_dist': lv.distance(row['YAPI_ADI'], rw['name']),\n",
    "                                 }, ignore_index=True)"
   ]
  },
  {
   "cell_type": "code",
   "execution_count": 435,
   "metadata": {},
   "outputs": [
    {
     "data": {
      "text/html": [
       "<div>\n",
       "<style scoped>\n",
       "    .dataframe tbody tr th:only-of-type {\n",
       "        vertical-align: middle;\n",
       "    }\n",
       "\n",
       "    .dataframe tbody tr th {\n",
       "        vertical-align: top;\n",
       "    }\n",
       "\n",
       "    .dataframe thead th {\n",
       "        text-align: right;\n",
       "    }\n",
       "</style>\n",
       "<table border=\"1\" class=\"dataframe\">\n",
       "  <thead>\n",
       "    <tr style=\"text-align: right;\">\n",
       "      <th></th>\n",
       "      <th>ibb</th>\n",
       "      <th>osm</th>\n",
       "      <th>lv_jw</th>\n",
       "      <th>lv_dist</th>\n",
       "    </tr>\n",
       "  </thead>\n",
       "  <tbody>\n",
       "    <tr>\n",
       "      <th>0</th>\n",
       "      <td>0.0</td>\n",
       "      <td>0.0</td>\n",
       "      <td>0.522141</td>\n",
       "      <td>12.0</td>\n",
       "    </tr>\n",
       "    <tr>\n",
       "      <th>1</th>\n",
       "      <td>0.0</td>\n",
       "      <td>1.0</td>\n",
       "      <td>0.383244</td>\n",
       "      <td>16.0</td>\n",
       "    </tr>\n",
       "    <tr>\n",
       "      <th>2</th>\n",
       "      <td>0.0</td>\n",
       "      <td>2.0</td>\n",
       "      <td>0.347662</td>\n",
       "      <td>14.0</td>\n",
       "    </tr>\n",
       "    <tr>\n",
       "      <th>3</th>\n",
       "      <td>0.0</td>\n",
       "      <td>3.0</td>\n",
       "      <td>0.483053</td>\n",
       "      <td>28.0</td>\n",
       "    </tr>\n",
       "    <tr>\n",
       "      <th>4</th>\n",
       "      <td>0.0</td>\n",
       "      <td>4.0</td>\n",
       "      <td>0.611991</td>\n",
       "      <td>12.0</td>\n",
       "    </tr>\n",
       "    <tr>\n",
       "      <th>...</th>\n",
       "      <td>...</td>\n",
       "      <td>...</td>\n",
       "      <td>...</td>\n",
       "      <td>...</td>\n",
       "    </tr>\n",
       "    <tr>\n",
       "      <th>233</th>\n",
       "      <td>15.0</td>\n",
       "      <td>12.0</td>\n",
       "      <td>0.450000</td>\n",
       "      <td>6.0</td>\n",
       "    </tr>\n",
       "    <tr>\n",
       "      <th>234</th>\n",
       "      <td>15.0</td>\n",
       "      <td>13.0</td>\n",
       "      <td>0.446970</td>\n",
       "      <td>10.0</td>\n",
       "    </tr>\n",
       "    <tr>\n",
       "      <th>235</th>\n",
       "      <td>15.0</td>\n",
       "      <td>14.0</td>\n",
       "      <td>0.446970</td>\n",
       "      <td>10.0</td>\n",
       "    </tr>\n",
       "    <tr>\n",
       "      <th>236</th>\n",
       "      <td>15.0</td>\n",
       "      <td>15.0</td>\n",
       "      <td>0.428161</td>\n",
       "      <td>25.0</td>\n",
       "    </tr>\n",
       "    <tr>\n",
       "      <th>237</th>\n",
       "      <td>15.0</td>\n",
       "      <td>16.0</td>\n",
       "      <td>0.000000</td>\n",
       "      <td>19.0</td>\n",
       "    </tr>\n",
       "  </tbody>\n",
       "</table>\n",
       "<p>238 rows × 4 columns</p>\n",
       "</div>"
      ],
      "text/plain": [
       "      ibb   osm     lv_jw  lv_dist\n",
       "0     0.0   0.0  0.522141     12.0\n",
       "1     0.0   1.0  0.383244     16.0\n",
       "2     0.0   2.0  0.347662     14.0\n",
       "3     0.0   3.0  0.483053     28.0\n",
       "4     0.0   4.0  0.611991     12.0\n",
       "..    ...   ...       ...      ...\n",
       "233  15.0  12.0  0.450000      6.0\n",
       "234  15.0  13.0  0.446970     10.0\n",
       "235  15.0  14.0  0.446970     10.0\n",
       "236  15.0  15.0  0.428161     25.0\n",
       "237  15.0  16.0  0.000000     19.0\n",
       "\n",
       "[238 rows x 4 columns]"
      ]
     },
     "execution_count": 435,
     "metadata": {},
     "output_type": "execute_result"
    }
   ],
   "source": [
    "jaro_wk"
   ]
  },
  {
   "cell_type": "raw",
   "metadata": {},
   "source": [
    "ibb_dist.fillna('#', inplace=True)\n",
    "osm_dist.fillna('*', inplace=True);"
   ]
  },
  {
   "cell_type": "raw",
   "metadata": {},
   "source": [
    "jaro_arr = np.zeros(shape=(len(ibb_dist), len(osm_dist)))"
   ]
  },
  {
   "cell_type": "raw",
   "metadata": {},
   "source": [
    "for i, row in ibb_dist.iterrows():\n",
    "    for j, rw in osm_dist.iterrows():\n",
    "        if pd.isnull(row['YAPI_ADI']) or pd.isnull(rw['name']):\n",
    "            continue\n",
    "        jaro_arr[i][j] = lv.jaro_winkler(row['YAPI_ADI'], rw['name'])"
   ]
  },
  {
   "cell_type": "raw",
   "metadata": {},
   "source": [
    "jmax = np.amax(jaro_arr, axis = 1)\n",
    "jmax_pd = pd.DataFrame(jmax)"
   ]
  },
  {
   "cell_type": "raw",
   "metadata": {},
   "source": [
    "jmax_pd.sort_values(0,ascending=False).to_clipboard()"
   ]
  },
  {
   "cell_type": "raw",
   "metadata": {},
   "source": [
    "# maksimumları yeni bir dataframe'e yazdırma\n",
    "str_sim = pd.DataFrame(columns=['ibb_ind','lv_jw','lv_dist'])\n",
    "\n",
    "for i in range(len(ibb_dist)):\n",
    "    str_sim = str_sim.append({'ibb_ind':i, \n",
    "                          'lv_jw': jaro_wk[jaro_wk['ibb'] == i]['lv_jw'].max(),\n",
    "                          'lv_dist': jaro_wk[jaro_wk['ibb'] == i]['lv_dist'].max()}, ignore_index=True)  "
   ]
  },
  {
   "cell_type": "raw",
   "metadata": {},
   "source": [
    "ls = []\n",
    "mx = 0\n",
    "for i, row in jaro_wk.iterrows():\n",
    "    if pd.isnull(row['lv_jw']):\n",
    "            continue\n",
    "    while row['ibb'] == i:\n",
    "        (row['lv_jw'] > mx)\n",
    "        ls.append(row['lv_jw'])"
   ]
  },
  {
   "cell_type": "raw",
   "metadata": {},
   "source": [
    "jaro_wk = pd.DataFrame(columns=['ibb', 'osm','lv_jw', 'jf_jw', 'lv_dist'])\n",
    "\n",
    "for i, row in ibb_test.iterrows():\n",
    "    for j, rw in osm_test.iterrows():\n",
    "        if pd.isnull(row['YAPI_ADI']) or pd.isnull(rw['name']):\n",
    "            continue\n",
    "        jaro_wk = jaro_wk.append({'ibb': i, 'osm': j,\n",
    "                                  'lv_jw': lv.jaro_winkler(row['YAPI_ADI'], rw['name']),\n",
    "                                  'jf_jw': jf.jaro_winkler(row['YAPI_ADI'], rw['name']),\n",
    "                                  'lv_dist': lv.distance(row['YAPI_ADI'], rw['name']),\n",
    "                                 }, ignore_index=True)"
   ]
  }
 ],
 "metadata": {
  "kernelspec": {
   "display_name": "Python 3 (ipykernel)",
   "language": "python",
   "name": "python3"
  },
  "language_info": {
   "codemirror_mode": {
    "name": "ipython",
    "version": 3
   },
   "file_extension": ".py",
   "mimetype": "text/x-python",
   "name": "python",
   "nbconvert_exporter": "python",
   "pygments_lexer": "ipython3",
   "version": "3.9.9"
  }
 },
 "nbformat": 4,
 "nbformat_minor": 4
}
